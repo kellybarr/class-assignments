{
 "cells": [
  {
   "cell_type": "markdown",
   "metadata": {},
   "source": [
    "# Descriptions of cocoli_files"
   ]
  },
  {
   "cell_type": "markdown",
   "metadata": {},
   "source": [
    "### Each row in cocoli.txt = data about individual trees:  dbh, species, geo, dates\n",
    "### Each row in cocolisp.txt = shorthand codes for species of trees"
   ]
  },
  {
   "cell_type": "markdown",
   "metadata": {},
   "source": [
    "# answering some questions"
   ]
  },
  {
   "cell_type": "markdown",
   "metadata": {},
   "source": [
    "### CAL2CA is Calycophyllum candidissimum <- got this by greb CAL2CA cocolisp.txt\n",
    "### mult2 is number of stems at 1.3 m at 2nd census\n",
    "### dbh2 diameter at breast height of largest stem from second census"
   ]
  },
  {
   "cell_type": "markdown",
   "metadata": {},
   "source": [
    "# Questions proposed by us"
   ]
  },
  {
   "cell_type": "markdown",
   "metadata": {},
   "source": [
    "### Change in dbh between 2 time periods and overall\n",
    "### Mortality and recruitment\n",
    "### Change in diversity over time (species composition between periods 1 and 2)"
   ]
  },
  {
   "cell_type": "markdown",
   "metadata": {},
   "source": [
    "# Answering some questions"
   ]
  },
  {
   "cell_type": "markdown",
   "metadata": {},
   "source": [
    "### sed 's/\\s/,/g' cocolisp.txt > cocolisp.csv\n",
    "### cut -d \",\" -f 2 cocolisp.csv | sort | unique -c | sort -nr\n",
    "### piper!\n",
    "### unique:  cut -d \",\" -f 2 cocolisp.csv | sort | uniq -c | sort -n | grep -w \"1\" | wc -l\n",
    "### unique:  99 (but with header still in there)\n",
    "### unique families:  127"
   ]
  },
  {
   "cell_type": "markdown",
   "metadata": {},
   "source": [
    "# Pseudocode"
   ]
  },
  {
   "cell_type": "markdown",
   "metadata": {},
   "source": [
    "### import data from cocoli.txt\n",
    "### write data into python by species codes and the 2 dbhs, one for 1994, other for 1998\n",
    "### calculate overall growth between years\n",
    "### read these data into a dictionary with species & growth\n",
    "### sort to figure out key for largest value \n",
    "### look in species file for the species code"
   ]
  }
 ],
 "metadata": {
  "anaconda-cloud": {},
  "kernelspec": {
   "display_name": "Python [conda root]",
   "language": "python",
   "name": "conda-root-py"
  },
  "language_info": {
   "codemirror_mode": {
    "name": "ipython",
    "version": 3
   },
   "file_extension": ".py",
   "mimetype": "text/x-python",
   "name": "python",
   "nbconvert_exporter": "python",
   "pygments_lexer": "ipython3",
   "version": "3.5.2"
  }
 },
 "nbformat": 4,
 "nbformat_minor": 2
}
