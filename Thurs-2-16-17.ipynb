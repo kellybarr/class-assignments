{
 "cells": [
  {
   "cell_type": "code",
   "execution_count": 5,
   "metadata": {
    "collapsed": true
   },
   "outputs": [],
   "source": [
    "nature_birds = {}\n",
    "ff = open(\"beaks_lesslines.csv\",\"r\",encoding=\"ISO-8859-15\")\n",
    "ss = ff.readlines()[1:]\n",
    "\n",
    "for line in ss:\n",
    "    sp = line.split(\",\")[0]\n",
    "    fam = line.split(\",\")[2]\n",
    "    nature_birds[sp] = fam\n",
    "ff.close()"
   ]
  },
  {
   "cell_type": "code",
   "execution_count": 14,
   "metadata": {
    "collapsed": false
   },
   "outputs": [],
   "source": [
    "def makeBirdDict(filename):\n",
    "    birdDict = {}\n",
    "    fobj = open(filename,\"r\",encoding=\"ISO-8859-15\")\n",
    "    records = fobj.readlines()[1:]\n",
    "    for line in records:\n",
    "        record_elements = line.split(\",\")\n",
    "        sp = record_elements[0]\n",
    "        fam = record_elements[2]\n",
    "        birdDict[sp] = fam\n",
    "    return birdDict\n"
   ]
  },
  {
   "cell_type": "code",
   "execution_count": 26,
   "metadata": {
    "collapsed": false
   },
   "outputs": [
    {
     "name": "stdout",
     "output_type": "stream",
     "text": [
      "family of Abroscopus_schisticeps is Sylviidae\n"
     ]
    }
   ],
   "source": [
    "beaks = makeBirdDict(\"beaks_lesslines.csv\")\n",
    "species=list(beaks.keys())\n",
    "species.sort()\n",
    "species[0]\n",
    "\n",
    "print(\"family of \" + species[0] + \" is \" + beaks[species[0]])\n",
    "\n"
   ]
  },
  {
   "cell_type": "code",
   "execution_count": 27,
   "metadata": {
    "collapsed": true
   },
   "outputs": [],
   "source": [
    "def outOfOrder(number,pet):\n",
    "    print(\"I own {} {}s\".format(number,pet))"
   ]
  },
  {
   "cell_type": "code",
   "execution_count": 28,
   "metadata": {
    "collapsed": false
   },
   "outputs": [
    {
     "name": "stdout",
     "output_type": "stream",
     "text": [
      "I own 3 dogs\n"
     ]
    }
   ],
   "source": [
    "outOfOrder(3,\"dog\")"
   ]
  },
  {
   "cell_type": "code",
   "execution_count": 29,
   "metadata": {
    "collapsed": false
   },
   "outputs": [
    {
     "name": "stdout",
     "output_type": "stream",
     "text": [
      "I own dog 3s\n"
     ]
    }
   ],
   "source": [
    "outOfOrder(\"dog\",3)"
   ]
  },
  {
   "cell_type": "code",
   "execution_count": 30,
   "metadata": {
    "collapsed": false
   },
   "outputs": [
    {
     "name": "stdout",
     "output_type": "stream",
     "text": [
      "I own 3 dogs\n"
     ]
    }
   ],
   "source": [
    "outOfOrder(pet=\"dog\",number=3)"
   ]
  },
  {
   "cell_type": "code",
   "execution_count": null,
   "metadata": {
    "collapsed": true
   },
   "outputs": [],
   "source": []
  }
 ],
 "metadata": {
  "anaconda-cloud": {},
  "kernelspec": {
   "display_name": "Python [default]",
   "language": "python",
   "name": "python3"
  },
  "language_info": {
   "codemirror_mode": {
    "name": "ipython",
    "version": 3
   },
   "file_extension": ".py",
   "mimetype": "text/x-python",
   "name": "python",
   "nbconvert_exporter": "python",
   "pygments_lexer": "ipython3",
   "version": "3.5.2"
  }
 },
 "nbformat": 4,
 "nbformat_minor": 2
}
