{
 "cells": [
  {
   "cell_type": "markdown",
   "metadata": {},
   "source": [
    "sharks\n",
    "canids\n",
    "indians vs. americans\n",
    "some oaks\n",
    "turtles\n",
    "gators\n",
    "pilosa\n",
    "lab, finches, budgies\n",
    "donkey kong\n",
    "trying athletes\n",
    "poorly eating birds\n",
    "Wall-E?  No, cucarachas\n",
    "kitties\n",
    "sick birds\n",
    "questions?  \n"
   ]
  }
 ],
 "metadata": {
  "anaconda-cloud": {},
  "kernelspec": {
   "display_name": "Python [conda root]",
   "language": "python",
   "name": "conda-root-py"
  },
  "language_info": {
   "codemirror_mode": {
    "name": "ipython",
    "version": 3
   },
   "file_extension": ".py",
   "mimetype": "text/x-python",
   "name": "python",
   "nbconvert_exporter": "python",
   "pygments_lexer": "ipython3",
   "version": "3.5.2"
  }
 },
 "nbformat": 4,
 "nbformat_minor": 2
}
