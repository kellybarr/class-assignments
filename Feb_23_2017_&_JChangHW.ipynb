{
 "cells": [
  {
   "cell_type": "code",
   "execution_count": 8,
   "metadata": {
    "collapsed": false
   },
   "outputs": [],
   "source": [
    "import urllib.request\n",
    "from bs4 import BeautifulSoup\n",
    "\n"
   ]
  },
  {
   "cell_type": "code",
   "execution_count": 3,
   "metadata": {
    "collapsed": true
   },
   "outputs": [],
   "source": [
    "family_url = \"http://www.fishbase.org/Nomenclature/NominalSpeciesList.php?family=Abyssocottidae\"\n",
    "\n"
   ]
  },
  {
   "cell_type": "code",
   "execution_count": 10,
   "metadata": {
    "collapsed": false
   },
   "outputs": [],
   "source": [
    "html = urllib.request.urlopen(family_url)\n",
    "html_doc = html.read()\n",
    "html.close()\n",
    "\n"
   ]
  },
  {
   "cell_type": "code",
   "execution_count": 11,
   "metadata": {
    "collapsed": false
   },
   "outputs": [
    {
     "name": "stderr",
     "output_type": "stream",
     "text": [
      "/home/eeb177-student/miniconda3/lib/python3.5/site-packages/bs4/__init__.py:181: UserWarning: No parser was explicitly specified, so I'm using the best available HTML parser for this system (\"html.parser\"). This usually isn't a problem, but if you run this code on another system, or in a different virtual environment, it may use a different parser and behave differently.\n",
      "\n",
      "The code that caused this warning is on line 184 of the file /home/eeb177-student/miniconda3/lib/python3.5/runpy.py. To get rid of this warning, change code that looks like this:\n",
      "\n",
      " BeautifulSoup([your markup])\n",
      "\n",
      "to this:\n",
      "\n",
      " BeautifulSoup([your markup], \"html.parser\")\n",
      "\n",
      "  markup_type=markup_type))\n"
     ]
    }
   ],
   "source": [
    "soup = BeautifulSoup(html_doc)"
   ]
  },
  {
   "cell_type": "code",
   "execution_count": 14,
   "metadata": {
    "collapsed": false
   },
   "outputs": [],
   "source": [
    "links = soup.find_all('a')"
   ]
  },
  {
   "cell_type": "code",
   "execution_count": 16,
   "metadata": {
    "collapsed": false
   },
   "outputs": [
    {
     "name": "stdout",
     "output_type": "stream",
     "text": [
      "Limnocottus bergianus\n",
      "Cottinella boulengeri\n",
      "Abyssocottus elochini\n",
      "Abyssocottus gibbosus\n",
      "Abyssocottus gibbosus\n",
      "Limnocottus godlewskii\n",
      "Limnocottus godlewskii\n",
      "Limnocottus griseus\n",
      "Procottus gotoi\n",
      "Procottus gurwicii\n",
      "Asprocottus herzensteini\n",
      "Asprocottus abyssalis\n",
      "Asprocottus intermedius\n",
      "Asprocottus parmiferus\n",
      "Asprocottus platycephalus\n",
      "Procottus jeittelesii\n",
      "Procottus major\n",
      "Procottus gurwicii\n",
      "Procottus jeittelesii\n",
      "Asprocottus korjakovi\n",
      "Asprocottus minor\n",
      "Abyssocottus korotneffi\n",
      "Cyphocottus megalops\n",
      "Cyphocottus megalops\n",
      "Cyphocottus eurystomus\n",
      "Limnocottus pallidus\n",
      "Asprocottus pulcher\n",
      "Neocottus thermalis\n",
      "Neocottus werestschagini\n"
     ]
    }
   ],
   "source": [
    "for link in links:\n",
    "    italics = link.find_all('i')\n",
    "    for italic in italics:\n",
    "        print(italic.string)"
   ]
  },
  {
   "cell_type": "code",
   "execution_count": 17,
   "metadata": {
    "collapsed": false
   },
   "outputs": [
    {
     "ename": "SyntaxError",
     "evalue": "invalid syntax (<ipython-input-17-984e8c94d2f3>, line 1)",
     "output_type": "error",
     "traceback": [
      "\u001b[0;36m  File \u001b[0;32m\"<ipython-input-17-984e8c94d2f3>\"\u001b[0;36m, line \u001b[0;32m1\u001b[0m\n\u001b[0;31m    curl 'https://fishbase.ropensci.org/species/?genus=Platichthys&species=stellatus'\u001b[0m\n\u001b[0m                                                                                    ^\u001b[0m\n\u001b[0;31mSyntaxError\u001b[0m\u001b[0;31m:\u001b[0m invalid syntax\n"
     ]
    }
   ],
   "source": [
    "curl 'https://fishbase.ropensci.org/species/?genus=Platichthys&species=stellatus'"
   ]
  },
  {
   "cell_type": "code",
   "execution_count": 1,
   "metadata": {
    "collapsed": true
   },
   "outputs": [],
   "source": [
    "import urllib.request\n",
    "import json\n",
    "\n",
    "api_url = \"https://fishbase.ropensci.org/species/?genus=Platichthys&species=stellatus\"\n"
   ]
  },
  {
   "cell_type": "code",
   "execution_count": 2,
   "metadata": {
    "collapsed": false
   },
   "outputs": [],
   "source": [
    "raw_json = urllib.request.urlopen(api_url)\n",
    "decoded_json = raw_json.read().decode('utf-8')\n",
    "parsed_json = json.loads(decoded_json) ## we use the json.load method directly\n",
    "raw_json.close()"
   ]
  },
  {
   "cell_type": "code",
   "execution_count": 21,
   "metadata": {
    "collapsed": false
   },
   "outputs": [
    {
     "data": {
      "text/plain": [
       "9100.0"
      ]
     },
     "execution_count": 21,
     "metadata": {},
     "output_type": "execute_result"
    }
   ],
   "source": [
    "\n",
    "parsed_json[\"data\"][0][\"Weight\"]\n"
   ]
  },
  {
   "cell_type": "code",
   "execution_count": 24,
   "metadata": {
    "collapsed": true
   },
   "outputs": [],
   "source": [
    "#I don't need no stinking for loop for this!\n",
    "\n",
    "api_url2 = \"https://fishbase.ropensci.org/species/?genus=Platichthys\"\n",
    "raw_json = urllib.request.urlopen(api_url2)\n",
    "decoded_json = raw_json.read().decode('utf-8')\n",
    "parsed_json = json.loads(decoded_json) ## we use the json.load method directly\n",
    "raw_json.close()"
   ]
  },
  {
   "cell_type": "code",
   "execution_count": 33,
   "metadata": {
    "collapsed": false
   },
   "outputs": [
    {
     "data": {
      "text/plain": [
       "'flesus'"
      ]
     },
     "execution_count": 33,
     "metadata": {},
     "output_type": "execute_result"
    }
   ],
   "source": [
    "parsed_json[\"data\"][0][\"Species\"]"
   ]
  },
  {
   "cell_type": "code",
   "execution_count": 34,
   "metadata": {
    "collapsed": false
   },
   "outputs": [
    {
     "data": {
      "text/plain": [
       "'stellatus'"
      ]
     },
     "execution_count": 34,
     "metadata": {},
     "output_type": "execute_result"
    }
   ],
   "source": [
    "parsed_json[\"data\"][1][\"Species\"]"
   ]
  },
  {
   "cell_type": "code",
   "execution_count": 35,
   "metadata": {
    "collapsed": false
   },
   "outputs": [
    {
     "data": {
      "text/plain": [
       "dict"
      ]
     },
     "execution_count": 35,
     "metadata": {},
     "output_type": "execute_result"
    }
   ],
   "source": [
    "type(parsed_json)"
   ]
  },
  {
   "cell_type": "code",
   "execution_count": null,
   "metadata": {
    "collapsed": true
   },
   "outputs": [],
   "source": []
  }
 ],
 "metadata": {
  "anaconda-cloud": {},
  "kernelspec": {
   "display_name": "Python [conda root]",
   "language": "python",
   "name": "conda-root-py"
  },
  "language_info": {
   "codemirror_mode": {
    "name": "ipython",
    "version": 3
   },
   "file_extension": ".py",
   "mimetype": "text/x-python",
   "name": "python",
   "nbconvert_exporter": "python",
   "pygments_lexer": "ipython3",
   "version": "3.5.2"
  }
 },
 "nbformat": 4,
 "nbformat_minor": 2
}
